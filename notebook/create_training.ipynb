{
 "cells": [
  {
   "cell_type": "code",
   "execution_count": 1,
   "metadata": {},
   "outputs": [
    {
     "name": "stderr",
     "output_type": "stream",
     "text": [
      "2022-03-15 17:37:56.692507: W tensorflow/stream_executor/platform/default/dso_loader.cc:64] Could not load dynamic library 'libcudart.so.11.0'; dlerror: libcudart.so.11.0: cannot open shared object file: No such file or directory\n",
      "2022-03-15 17:37:56.692665: I tensorflow/stream_executor/cuda/cudart_stub.cc:29] Ignore above cudart dlerror if you do not have a GPU set up on your machine.\n"
     ]
    }
   ],
   "source": [
    "import os\n",
    "import platform\n",
    "import pandas as pd\n",
    "import cv2 as cv\n",
    "import json\n",
    "import numpy as np\n",
    "import tensorflow as tf\n",
    "\n",
    "\n",
    "from tqdm import tqdm\n",
    "from glob import glob, iglob\n",
    "from matplotlib import image, pyplot as plt, patches\n",
    "\n",
    "from sys import path\n",
    "path.insert(0, '..')\n",
    "import utill"
   ]
  },
  {
   "cell_type": "code",
   "execution_count": 19,
   "metadata": {},
   "outputs": [
    {
     "name": "stdout",
     "output_type": "stream",
     "text": [
      "Data length: 110000\n",
      "Data train length: 67201\n",
      "Data val length: 860\n"
     ]
    }
   ],
   "source": [
    "with open('../assets/dataset/gt_train.txt') as file:\n",
    "  data = json.load(file)\n",
    "\n",
    "with open('../assets/data_train.txt') as file:\n",
    "  data_train = json.load(file)\n",
    "\n",
    "with open('../assets/data_val.txt') as file:\n",
    "  data_val = json.load(file)\n",
    "\n",
    "print(f'Data length: {len(data)}')\n",
    "print(f'Data train length: {len(data_train)}')\n",
    "print(f'Data val length: {len(data_val)}')\n"
   ]
  },
  {
   "cell_type": "code",
   "execution_count": 7,
   "metadata": {},
   "outputs": [],
   "source": [
    "two = ['motorcycle', 'bicycle']\n",
    "four = ['car', 'pickup_truck', 'work_van']\n",
    "multi = ['articulated_truck', 'single_unit_truck', 'bus']"
   ]
  },
  {
   "cell_type": "code",
   "execution_count": 20,
   "metadata": {},
   "outputs": [],
   "source": [
    "for data in data_train:\n",
    "  new_objects = []\n",
    "  for vehicle in data['objects']:\n",
    "    if vehicle['class'] in two:\n",
    "      vehicle['class'] = 'two-wheeled_vehicle'\n",
    "\n",
    "    if vehicle['class'] in four:\n",
    "      vehicle['class'] = 'four-wheeled_vehicle'\n",
    "    \n",
    "    if vehicle['class'] in multi:\n",
    "      vehicle['class'] = 'multi-wheeled_vehicle'\n",
    "      \n",
    "    if vehicle['class'] != 'pedestrian':\n",
    "      new_objects.append(vehicle)\n",
    "\n",
    "  data['objects'] = new_objects"
   ]
  },
  {
   "cell_type": "code",
   "execution_count": 22,
   "metadata": {},
   "outputs": [
    {
     "name": "stdout",
     "output_type": "stream",
     "text": [
      "67201\n",
      "{'filename': '00070939.jpg', 'image-size': [480, 720], 'objects': [{'class': 'four-wheeled_vehicle', 'x': 0.20277777777777778, 'y': 0.2625, 'w': 0.12638888888888888, 'h': 0.125}, {'class': 'four-wheeled_vehicle', 'x': 0.03333333333333333, 'y': 0.19791666666666666, 'w': 0.02361111111111111, 'h': 0.03125}, {'class': 'four-wheeled_vehicle', 'x': 0.23194444444444445, 'y': 0.1, 'w': 0.043055555555555555, 'h': 0.03333333333333333}, {'class': 'four-wheeled_vehicle', 'x': 0.12638888888888888, 'y': 0.2125, 'w': 0.10416666666666667, 'h': 0.11041666666666666}, {'class': 'four-wheeled_vehicle', 'x': 0.6597222222222222, 'y': 0.1875, 'w': 0.15694444444444444, 'h': 0.11041666666666666}, {'class': 'four-wheeled_vehicle', 'x': 0.06666666666666667, 'y': 0.20833333333333334, 'w': 0.029166666666666667, 'h': 0.05}, {'class': 'four-wheeled_vehicle', 'x': 0.0875, 'y': 0.2, 'w': 0.06111111111111111, 'h': 0.08541666666666667}, {'class': 'multi-wheeled_vehicle', 'x': 0.09583333333333334, 'y': 0.11041666666666666, 'w': 0.041666666666666664, 'h': 0.05416666666666667}, {'class': 'four-wheeled_vehicle', 'x': 0.05416666666666667, 'y': 0.2, 'w': 0.03333333333333333, 'h': 0.041666666666666664}, {'class': 'four-wheeled_vehicle', 'x': 0.3138888888888889, 'y': 0.052083333333333336, 'w': 0.044444444444444446, 'h': 0.03333333333333333}]}\n"
     ]
    }
   ],
   "source": [
    "print(len(data_train))\n",
    "print(data_train[10])"
   ]
  },
  {
   "cell_type": "code",
   "execution_count": null,
   "metadata": {},
   "outputs": [],
   "source": []
  },
  {
   "cell_type": "code",
   "execution_count": 74,
   "metadata": {},
   "outputs": [],
   "source": [
    "def filtter_data(data, threshold):\n",
    "  leak = []\n",
    "  ndata = []\n",
    "  data_train = data\n",
    "  for f in data_train:\n",
    "    objects = {}\n",
    "    for c in f['objects']:\n",
    "      if c['class'] in objects:\n",
    "        objects[c['class']] += 1\n",
    "      else:\n",
    "        objects[c['class']] = 1\n",
    "    f['objects'] = objects\n",
    "\n",
    "  for f in data_train:\n",
    "    if 'car' in list(f['objects'].keys()):\n",
    "      if f['objects']['car'] >= threshold:\n",
    "        leak.append(f)\n",
    "\n",
    "  leak = [x['filename'] for x in leak]\n",
    "\n",
    "  for id in range(len(data)):\n",
    "    if data[id]['filename'] not in leak:\n",
    "      ndata.append(data[id])\n",
    "  \n",
    "  return ndata"
   ]
  },
  {
   "cell_type": "code",
   "execution_count": 76,
   "metadata": {},
   "outputs": [],
   "source": [
    "dt = filtter_data(data_train, 15)"
   ]
  },
  {
   "cell_type": "code",
   "execution_count": 79,
   "metadata": {},
   "outputs": [
    {
     "name": "stdout",
     "output_type": "stream",
     "text": [
      "{'filename': '00095813.jpg', 'image-size': [480, 720], 'objects': {'pickup_truck': 1, 'motorized_vehicle': 1}}\n"
     ]
    }
   ],
   "source": [
    "print(dt[0])"
   ]
  },
  {
   "cell_type": "code",
   "execution_count": 25,
   "metadata": {},
   "outputs": [],
   "source": [
    "with open('../assets/new_data_train.txt', 'w') as file:\n",
    "    json.dump(data_train, file)"
   ]
  },
  {
   "cell_type": "code",
   "execution_count": 14,
   "metadata": {},
   "outputs": [],
   "source": [
    "def export_gt(image_notation, image_folder_path, export_path):\n",
    "  for line in image_notation:\n",
    "    filename = os.path.join(image_folder_path, line['filename'])\n",
    "    img = line['image-size']\n",
    "    filename = filename.split(os.sep)[-1].split('.')[0]\n",
    "    output_path = os.path.join(export_path, filename+'.txt')\n",
    "\n",
    "    with open(output_path, 'w') as gt_file:\n",
    "      for object in line['objects']:\n",
    "        x1 = round(object['x'] * img[1])\n",
    "        y1 = round(object['y'] * img[0])\n",
    "        x2 = round(x1 + (object['w'] * img[1]))\n",
    "        y2 = round(y1 + (object['h'] * img[0]))\n",
    "        gt_file.write('{0} {1} {2} {3} {4}\\n'.format(object['class'], x1, y1, x2, y2))"
   ]
  },
  {
   "cell_type": "code",
   "execution_count": 24,
   "metadata": {},
   "outputs": [
    {
     "name": "stdout",
     "output_type": "stream",
     "text": [
      "{'four-wheeled_vehicle': 195408, 'multi-wheeled_vehicle': 25405, 'motorized_vehicle': 25743, 'two-wheeled_vehicle': 3942, 'non-motorized_vehicle': 2320}\n",
      "[('non-motorized_vehicle', 2320), ('two-wheeled_vehicle', 3942), ('multi-wheeled_vehicle', 25405), ('motorized_vehicle', 25743), ('four-wheeled_vehicle', 195408)]\n"
     ]
    },
    {
     "name": "stderr",
     "output_type": "stream",
     "text": [
      "/home/hadioz/development/python/counting-car/notebook/../utill.py:475: MatplotlibDeprecationWarning: \n",
      "The set_window_title function was deprecated in Matplotlib 3.4 and will be removed two minor releases later. Use manager.set_window_title or GUI-specific methods instead.\n",
      "  fig.canvas.set_window_title(window_title)\n"
     ]
    },
    {
     "data": {
      "image/png": "[encoded data removed]",
      "text/plain": [
       "<Figure size 432x288 with 1 Axes>"
      ]
     },
     "metadata": {
      "needs_background": "light"
     },
     "output_type": "display_data"
    }
   ],
   "source": [
    "dr_files_list = sorted(glob(os.path.join('../assets/gt_train', '*.txt')))\n",
    "classes = {}\n",
    "for text_file in dr_files_list:\n",
    "  lines = utill.read_txt_to_list(text_file)\n",
    "  for line in lines:\n",
    "    class_name = line.split()[0]\n",
    "    if class_name in classes:\n",
    "      classes[class_name] += 1\n",
    "    else:\n",
    "      classes[class_name] = 1\n",
    "\n",
    "cl_name = list(classes.keys())\n",
    "print(classes)\n",
    "\n",
    "utill.draw_plot_func(\n",
    "                classes,\n",
    "                len(classes),\n",
    "                \"gt-info\",\n",
    "                \"Ground Truth\",\n",
    "                \"count\",\n",
    "                \"./ground-truth-info.jpeg\",\n",
    "                True,\n",
    "                \"forestgreen\",\n",
    "                '',)"
   ]
  },
  {
   "cell_type": "code",
   "execution_count": 23,
   "metadata": {},
   "outputs": [],
   "source": [
    "export_gt(data_train, '../assets/dataset/train', '../assets/gt_train')"
   ]
  }
 ],
 "metadata": {
  "interpreter": {
   "hash": "916dbcbb3f70747c44a77c7bcd40155683ae19c65e1c03b4aa3499c5328201f1"
  },
  "kernelspec": {
   "display_name": "Python 3.8.10 64-bit",
   "language": "python",
   "name": "python3"
  },
  "language_info": {
   "codemirror_mode": {
    "name": "ipython",
    "version": 3
   },
   "file_extension": ".py",
   "mimetype": "text/x-python",
   "name": "python",
   "nbconvert_exporter": "python",
   "pygments_lexer": "ipython3",
   "version": "3.8.10"
  },
  "orig_nbformat": 4
 },
 "nbformat": 4,
 "nbformat_minor": 2
}
