{
 "cells": [
  {
   "cell_type": "code",
   "execution_count": 10,
   "metadata": {},
   "outputs": [],
   "source": [
    "import os\n",
    "import platform\n",
    "import pandas as pd\n",
    "import cv2 as cv\n",
    "import json\n",
    "import numpy as np\n",
    "import tensorflow as tf\n",
    "\n",
    "\n",
    "from tqdm import tqdm\n",
    "from glob import glob, iglob\n",
    "from matplotlib import image, pyplot as plt, patches\n",
    "\n",
    "from sys import path\n",
    "path.insert(0, '..')\n",
    "import utill"
   ]
  },
  {
   "cell_type": "code",
   "execution_count": 16,
   "metadata": {},
   "outputs": [
    {
     "name": "stdout",
     "output_type": "stream",
     "text": [
      "Data length: 110000\n",
      "Data train length: 67201\n",
      "Data val length: 860\n"
     ]
    }
   ],
   "source": [
    "with open('../assets/dataset/gt_train.txt') as file:\n",
    "  data = json.load(file)\n",
    "\n",
    "with open('../assets/dataset/new_data_train.txt') as file:\n",
    "  data_train = json.load(file)\n",
    "\n",
    "with open('../assets/dataset/new_data_val.txt') as file:\n",
    "  data_val = json.load(file)\n",
    "\n",
    "print(f'Data length: {len(data)}')\n",
    "print(f'Data train length: {len(data_train)}')\n",
    "print(f'Data val length: {len(data_val)}')\n"
   ]
  },
  {
   "cell_type": "code",
   "execution_count": 65,
   "metadata": {},
   "outputs": [
    {
     "name": "stderr",
     "output_type": "stream",
     "text": [
      "100%|██████████| 110000/110000 [00:00<00:00, 686608.49it/s]"
     ]
    },
    {
     "name": "stdout",
     "output_type": "stream",
     "text": [
      "8139\n"
     ]
    },
    {
     "name": "stderr",
     "output_type": "stream",
     "text": [
      "\n"
     ]
    }
   ],
   "source": [
    "def make_class(data, class_name):\n",
    "  nclass = []\n",
    "  for idx in tqdm(range(len(data))):\n",
    "    for cls in data[idx]['objects']:\n",
    "      if cls['class'] == class_name:\n",
    "        nclass.append(data[idx])\n",
    "        break\n",
    "\n",
    "  return nclass\n",
    "\n",
    "new_class = make_class(data, 'work_van')\n",
    "\n",
    "print(len(new_class))\n",
    "# print([obj['filename'] for obj in new_class[:100]])\n"
   ]
  },
  {
   "cell_type": "code",
   "execution_count": 66,
   "metadata": {},
   "outputs": [],
   "source": [
    "with open('../assets/dataset/class/work_van.txt', 'w') as file:\n",
    "    json.dump(new_class, file)"
   ]
  },
  {
   "cell_type": "code",
   "execution_count": 18,
   "metadata": {},
   "outputs": [],
   "source": [
    "def export_gt(image_notation, image_folder_path, export_path):\n",
    "  for line in image_notation:\n",
    "    filename = os.path.join(image_folder_path, line['filename'])\n",
    "    img = line['image-size']\n",
    "    filename = filename.split(os.sep)[-1].split('.')[0]\n",
    "    output_path = os.path.join(export_path, filename+'.txt')\n",
    "\n",
    "    with open(output_path, 'w') as gt_file:\n",
    "      for object in line['objects']:\n",
    "        x1 = round(object['x'] * img[1])\n",
    "        y1 = round(object['y'] * img[0])\n",
    "        x2 = round(x1 + (object['w'] * img[1]))\n",
    "        y2 = round(y1 + (object['h'] * img[0]))\n",
    "        gt_file.write('{0} {1} {2} {3} {4}\\n'.format(object['class'], x1, y1, x2, y2))"
   ]
  },
  {
   "cell_type": "code",
   "execution_count": 23,
   "metadata": {},
   "outputs": [
    {
     "name": "stdout",
     "output_type": "stream",
     "text": [
      "{'pedestrian': 266, 'bicycle': 141, 'pickup_truck': 355, 'single_unit_truck': 121, 'non-motorized_vehicle': 105, 'car': 2068, 'articulated_truck': 130, 'motorized_vehicle': 280, 'work_van': 139, 'bus': 146, 'motorcycle': 110}\n",
      "[('non-motorized_vehicle', 105), ('motorcycle', 110), ('single_unit_truck', 121), ('articulated_truck', 130), ('work_van', 139), ('bicycle', 141), ('bus', 146), ('pedestrian', 266), ('motorized_vehicle', 280), ('pickup_truck', 355), ('car', 2068)]\n"
     ]
    },
    {
     "name": "stderr",
     "output_type": "stream",
     "text": [
      "/home/hadioz/development/python/counting-car/notebook/../utill.py:475: MatplotlibDeprecationWarning: \n",
      "The set_window_title function was deprecated in Matplotlib 3.4 and will be removed two minor releases later. Use manager.set_window_title or GUI-specific methods instead.\n",
      "  fig.canvas.set_window_title(window_title)\n"
     ]
    },
    {
     "data": {
      "image/png": "[encoded data removed]",
      "text/plain": [
       "<Figure size 432x288 with 1 Axes>"
      ]
     },
     "metadata": {
      "needs_background": "light"
     },
     "output_type": "display_data"
    }
   ],
   "source": [
    "dr_files_list = sorted(glob(os.path.join('../assets/gt_train', '*.txt')))\n",
    "classes = {}\n",
    "for text_file in dr_files_list:\n",
    "  lines = utill.read_txt_to_list(text_file)\n",
    "  for line in lines:\n",
    "    class_name = line.split()[0]\n",
    "    if class_name in classes:\n",
    "      classes[class_name] += 1\n",
    "    else:\n",
    "      classes[class_name] = 1\n",
    "\n",
    "cl_name = list(classes.keys())\n",
    "print(classes)\n",
    "\n",
    "utill.draw_plot_func(\n",
    "                classes,\n",
    "                len(classes),\n",
    "                \"gt-info\",\n",
    "                \"Ground Truth\",\n",
    "                \"count\",\n",
    "                \"./ground-truth-info.jpeg\",\n",
    "                True,\n",
    "                \"forestgreen\",\n",
    "                '',)"
   ]
  },
  {
   "cell_type": "code",
   "execution_count": 22,
   "metadata": {},
   "outputs": [],
   "source": [
    "export_gt(data_val, '../assets/dataset/train', '../assets/gt_train')"
   ]
  }
 ],
 "metadata": {
  "interpreter": {
   "hash": "916dbcbb3f70747c44a77c7bcd40155683ae19c65e1c03b4aa3499c5328201f1"
  },
  "kernelspec": {
   "display_name": "Python 3.8.10 64-bit",
   "language": "python",
   "name": "python3"
  },
  "language_info": {
   "codemirror_mode": {
    "name": "ipython",
    "version": 3
   },
   "file_extension": ".py",
   "mimetype": "text/x-python",
   "name": "python",
   "nbconvert_exporter": "python",
   "pygments_lexer": "ipython3",
   "version": "3.8.10"
  },
  "orig_nbformat": 4
 },
 "nbformat": 4,
 "nbformat_minor": 2
}
